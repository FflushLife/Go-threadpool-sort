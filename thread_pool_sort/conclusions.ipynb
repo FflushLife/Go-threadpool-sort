{
 "cells": [
  {
   "cell_type": "markdown",
   "metadata": {},
   "source": [
    "### Computer configuration\n",
    "2 real cores, 2 virtual cores, hyper threading is on, "
   ]
  },
  {
   "cell_type": "code",
   "execution_count": 8,
   "metadata": {},
   "outputs": [],
   "source": [
    "from matplotlib import pyplot as plt"
   ]
  },
  {
   "cell_type": "markdown",
   "metadata": {},
   "source": [
    "Lets parse time results for different values of thread numbers and cores in use"
   ]
  },
  {
   "cell_type": "code",
   "execution_count": 9,
   "metadata": {},
   "outputs": [
    {
     "name": "stdout",
     "output_type": "stream",
     "text": [
      "{'5': 2037.6, '12': 1319.6, '10': 1301.8, '11': 1230.8, '8': 1651.2, '13': 1237.6, '14': 1331.4, '2': 1264.2, '9': 1124.6, '15': 1919.0, '4': 1058.0, '7': 1146.4, '6': 1339.2, '3': 1122.8, '1': 2168.6}\n"
     ]
    }
   ],
   "source": [
    "times_t = open(\"times.txt\", \"r\").read().split('\\n')[:-1]\n",
    "averages = {}\n",
    "t_count_last = 0\n",
    "average = 0\n",
    "counter = 0\n",
    "\n",
    "for x in times_t:\n",
    "    t_count = int(x.split(',')[1])\n",
    "    if t_count_last == 0:\n",
    "        t_count_last = t_count\n",
    "    if t_count != t_count_last:\n",
    "        averages[str(t_count_last)] = average / counter\n",
    "        average = 0\n",
    "        counter = 0\n",
    "        t_count_last = t_count\n",
    "    average += int(x.split(',')[0])\n",
    "    counter += 1\n",
    "print(averages)"
   ]
  },
  {
   "cell_type": "markdown",
   "metadata": {},
   "source": [
    "Drawing averae"
   ]
  },
  {
   "cell_type": "code",
   "execution_count": 16,
   "metadata": {},
   "outputs": [
    {
     "data": {
      "text/plain": [
       "[<matplotlib.lines.Line2D at 0x7fa6aa944ba8>,\n",
       " <matplotlib.lines.Line2D at 0x7fa6aa944898>]"
      ]
     },
     "execution_count": 16,
     "metadata": {},
     "output_type": "execute_result"
    },
    {
     "data": {
      "image/png": "[encoded data removed]",
      "text/plain": [
       "<matplotlib.figure.Figure at 0x7fa6aa91f780>"
      ]
     },
     "metadata": {
      "needs_background": "light"
     },
     "output_type": "display_data"
    }
   ],
   "source": [
    "dots = []\n",
    "for i in range(1, 100):\n",
    "    if str(i) in averages:\n",
    "        dots.append([i, averages[str(i)]])\n",
    "\n",
    "fig = plt.figure()\n",
    "plt.plot(dots)"
   ]
  },
  {
   "cell_type": "code",
   "execution_count": null,
   "metadata": {},
   "outputs": [],
   "source": []
  }
 ],
 "metadata": {
  "kernelspec": {
   "display_name": "Python 3",
   "language": "python",
   "name": "python3"
  },
  "language_info": {
   "codemirror_mode": {
    "name": "ipython",
    "version": 3
   },
   "file_extension": ".py",
   "mimetype": "text/x-python",
   "name": "python",
   "nbconvert_exporter": "python",
   "pygments_lexer": "ipython3",
   "version": "3.5.3"
  }
 },
 "nbformat": 4,
 "nbformat_minor": 2
}
